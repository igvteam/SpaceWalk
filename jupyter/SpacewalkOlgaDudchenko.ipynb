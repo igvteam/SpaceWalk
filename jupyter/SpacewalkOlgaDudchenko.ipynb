{
 "cells": [
  {
   "cell_type": "markdown",
   "id": "57e54488-7f99-416a-bbaf-c87d2c809f22",
   "metadata": {},
   "source": [
    "## Spacewalk - Olga Dudchenko - Woolly Mammoth Skin Sample"
   ]
  },
  {
   "cell_type": "code",
   "execution_count": 1,
   "id": "bfc8bbc2-c402-46eb-9bb9-4262344fd2a0",
   "metadata": {},
   "outputs": [
    {
     "name": "stderr",
     "output_type": "stream",
     "text": [
      "/var/folders/95/yy2k561s2fx8w4tcjw0qp7cr0000gn/T/ipykernel_6324/264217650.py:2: DeprecationWarning: Importing display from IPython.core.display is deprecated since IPython 7.14, please import from IPython display\n",
      "  from IPython.core.display import display\n"
     ]
    },
    {
     "data": {
      "text/html": [
       "\n",
       "        <iframe\n",
       "            width=\"100%\"\n",
       "            height=\"960px\"\n",
       "            src=\"https://tinyurl.com/284ndh7c\"\n",
       "            frameborder=\"0\"\n",
       "            allowfullscreen\n",
       "            \n",
       "        ></iframe>\n",
       "        "
      ],
      "text/plain": [
       "<IPython.lib.display.IFrame at 0x106fc3a70>"
      ]
     },
     "metadata": {},
     "output_type": "display_data"
    }
   ],
   "source": [
    "from IPython.display import IFrame\n",
    "from IPython.core.display import display\n",
    "display(IFrame(\"https://tinyurl.com/284ndh7c\", \"100%\", \"960px\"))"
   ]
  },
  {
   "cell_type": "code",
   "execution_count": null,
   "id": "c53b64c9-54ce-4ba2-9f74-3129cf9f4e5e",
   "metadata": {},
   "outputs": [],
   "source": []
  }
 ],
 "metadata": {
  "kernelspec": {
   "display_name": "Python 3 (ipykernel)",
   "language": "python",
   "name": "python3"
  },
  "language_info": {
   "codemirror_mode": {
    "name": "ipython",
    "version": 3
   },
   "file_extension": ".py",
   "mimetype": "text/x-python",
   "name": "python",
   "nbconvert_exporter": "python",
   "pygments_lexer": "ipython3",
   "version": "3.12.3"
  }
 },
 "nbformat": 4,
 "nbformat_minor": 5
}
